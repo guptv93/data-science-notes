{
 "cells": [
  {
   "cell_type": "markdown",
   "metadata": {},
   "source": [
    "$\n",
    "\\newcommand{\\mmat}[1]{\\begin{bmatrix} #1 \\end{bmatrix}}\n",
    "\\newcommand{\\vac}[1]{\\mathbf{#1}}\n",
    "\\newcommand{\\real}[1]{\\mathbb{#1}}\n",
    "\\newcommand{\\C}{\\mathcal{C}}\n",
    "$\n",
    "\n",
    "## Linear Transformations and their Matrices \n",
    "\n",
    "So after having discussed Eigenvectors and Singular Value Decomposition, Gilbert Strang decides to discuss Linear Transformations (*in Lecture 30 of his MIT OCW Series*). The same linear transformations that were discussed right at the beginning of \"Essence of Linear Algebra\". That led to the definition of Matrix Multiplication. The lecture basically goes through the same ideas but Strang does a rather good job of putting forward the same ideas.  \n",
    "\n",
    "First, we discuss linear transformations without any underlying grid (without co-ordinates). Transformation of a vector is a translation of the matrix from one position to the other. A transformation $T$ is linear if it follows the following two properties:\n",
    "1. $T(\\vac{v}+\\vac{u}) = T(\\vac{v}) + T(\\vac{u})$\n",
    "2. $T(c\\vac{v}) = cT(\\vac{v})$\n",
    "\n",
    "It’s worth noticing that $T(\\vac{0}) = \\vac{0}$, because if not it couldn’t be true that $T(c\\vac{0}) = cT(\\vac{0})$. Though we don't have any grid, we can refer to this fixed point, which can't be linearly translated and is represented by $\\vac{0}$, as the origin. For simplicity, we make the assumption that all vectors start at the origin.  \n",
    "\n",
    "After this, Strang discusses two transformations (projection and rotation) and discusses how they are linear. The good thing about linear transformations is that you don't have to consider each vector individually, you can see what happens to a set of vectors collectively when they are subject to a linear transformation. We saw this using the example of a house in 2D plane. We also saw the linear transformation of reflection along the X-axis. We can also   \n",
    "\n",
    "Now we introduce a grid in the space and bring matrices into the picture. Each vector now is represented by a set of co-ordinates (with respect to standard basis). Observe that multiplying a vector with a matrix leads to a linear transformation of the vector, as the multiplication follows both the rules of linearity.  \n",
    "\n",
    "How do we describe a linear transformation with the help of this grid? We saw that a matrix multiplication is a linear transformation. Can each linear transformation be represented by a matrix?  \n",
    "\n",
    "How much information is needed to know $T(\\vac{v})$ for all possible inputs? We get input $\\vac{v_1}$ and we return $T(\\vac{v_1})$. We get input $\\vac{v_2}$, we return $T(\\vac{v_2})$. With this we can automatically find out the linear transformations for all linear combinations of $\\vac{v_1} \\& \\vac{v_2}$, using laws of linearity. Therefore, if we know the linear transformations for a set of basis vector, we can find out the l.t. for any other vector in space. Let $\\vac{v_1}\\dots\\vac{v_n}$ is a basis, then any $\\vac{v}$ can be expressed as \n",
    "$$\\vac{v} = c_1\\vac{v_1} + c_2\\vac{v_2} + c_3\\vac{v_3} + \\dots + c_n\\vac{v_n}$$\n",
    "$$\\implies T(\\vac{v}) = c_1T(\\vac{v_1}) + c_2T(\\vac{v_2}) + c_3T(\\vac{v_3}) + \\dots + c_n\\vac{v_n}$$  \n",
    "\n",
    "Thus $A = [T(\\vac{v_1}),T(\\vac{v_2}),\\dots,T(\\vac{v_n})]$ can describe, in entirety, any linear transformation $T$ on $\\real{R}^n$. $$T(\\vac{v}) = A\\vac{v}$$\n",
    "$A\\vac{v}$ represents the linear combination of the columns of $A$ in the same proportions as the standard basis vectors for the original vector. Given columns of $A$ are linear transformations of the standard basis by $T$, $T(\\vac{v})$ and $A\\vac{v}$ represent the same thing by rules of linearity.  "
   ]
  }
 ],
 "metadata": {
  "kernelspec": {
   "display_name": "Python 3",
   "language": "python",
   "name": "python3"
  },
  "language_info": {
   "codemirror_mode": {
    "name": "ipython",
    "version": 3
   },
   "file_extension": ".py",
   "mimetype": "text/x-python",
   "name": "python",
   "nbconvert_exporter": "python",
   "pygments_lexer": "ipython3",
   "version": "3.6.5"
  }
 },
 "nbformat": 4,
 "nbformat_minor": 2
}
