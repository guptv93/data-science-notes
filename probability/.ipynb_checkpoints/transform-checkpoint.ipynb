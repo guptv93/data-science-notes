{
 "cells": [
  {
   "cell_type": "markdown",
   "metadata": {},
   "source": [
    "# Transformation of Function"
   ]
  },
  {
   "cell_type": "markdown",
   "metadata": {},
   "source": [
    "Given the PDF of a random variable $X$, how do you get the PDF of a derived random variable $2X+3$. It is very simple. The probability of any value $x$ will now be the probability of $2x+3$. Therefore, the entire PDF is stretched to twice its size, and then translated horizontally to the right by 3 units.   \n",
    "\n",
    "Now let us talk about normal functions. If we are given the graph of $f(x)$, how do we derive the graph of $g(x) = f(2x+3)$? Do we follow the same procedure that we used for linear function of random variable? Notice here that new $2x+3$ doesn't take the value that $x$ took previously. Rather new $x$ takes the value that $2x+3$ took previously. Let us refer to $2x+3$ as $k$. Then the input value of $g$ for which the output is $f(k)$ is:\n",
    "\\begin{align}\n",
    "&2x+3 = k \\\\\n",
    "\\implies &x = \\frac{k-3}{2} \\\\\n",
    "\\end{align}  \n",
    "\n",
    "Thus to derive the new graph, we first translate the original graph to the left by 3 units and then shrink it to half.  \n",
    "\n",
    "Let us take another example. Suppose we are given the plot for $F(x) = x^2$ and we need to plot $G(y) = F(2-y) = (2-y)^2$. $G$ takes the same value as $F$ (the value of the image/output), when:\n",
    "\\begin{align}\n",
    "&2-y = x \\\\\n",
    "\\implies &y = 2-x \\\\\n",
    "\\end{align}\n",
    "\n",
    "Thus, $G(2-x) = F(x)$. Thus to transform plot of $F$ to the plot of $G$, we map every $x$ to $2-x$. We first reflect the graph of F on Y-axis, and then shift the graph to the right by 2 units.  \n",
    "\n",
    "Let me try to explain the same thing differently. If we want to plot the function $f$, we plot the value of $x$ on X-axis and the value of $f(x)$ on Y-axis. How do we plot $f(3-x)$? For each value of $x$, we plot what value is assigned by $f$ to $3-x$. For this we consider a value $k$ on X axis. To get the value $3-k$, we reflect $k$ on Y-axis and then shift it by $3$ to the right. Whatever value $f$ assign to this point, will be assigned by $f(3-x)$ to the point $k$. Therefore, if we take any $x$, and do the exact opposite operations (first shift left by $3$, then reflect on Y-axis) we get $k$. Thus, by shifting the graph of $f(x)$ to left by $3$ and then reflecting it on Y axis, we get $f(3-x)$."
   ]
  }
 ],
 "metadata": {
  "kernelspec": {
   "display_name": "Python 3",
   "language": "python",
   "name": "python3"
  },
  "language_info": {
   "codemirror_mode": {
    "name": "ipython",
    "version": 3
   },
   "file_extension": ".py",
   "mimetype": "text/x-python",
   "name": "python",
   "nbconvert_exporter": "python",
   "pygments_lexer": "ipython3",
   "version": "3.6.5"
  }
 },
 "nbformat": 4,
 "nbformat_minor": 2
}
